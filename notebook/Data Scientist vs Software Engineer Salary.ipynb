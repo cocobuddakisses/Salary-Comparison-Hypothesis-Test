{
 "cells": [
  {
   "cell_type": "markdown",
   "id": "9aa07d4d",
   "metadata": {},
   "source": [
    "# Salary Comparison: Data Scientist vs Software Engineer\n",
    "\n",
    "This analysis tests whether Data Scientists and Software Engineers at this example company are paid equally on average. Understanding pay differences helps evaluate pay equity and market alignment.\n",
    "\n",
    "## 📌 Hypotheses\n",
    "\n",
    "H₀ (null): The mean pay for Data Analysts and Software Engineers is equal.\n",
    "\n",
    "H₁ (alternative): The mean pay for Data Analysts is different from (or lower than / higher than) the mean pay for Software Engineers.\n",
    "\n",
    "###  Load Data 🗂️\n",
    "\n",
    "I will first import needed libraries and import the csv.\n",
    "\n"
   ]
  },
  {
   "cell_type": "code",
   "execution_count": 78,
   "id": "07b1cc3b",
   "metadata": {},
   "outputs": [
    {
     "data": {
      "text/html": [
       "<div>\n",
       "<style scoped>\n",
       "    .dataframe tbody tr th:only-of-type {\n",
       "        vertical-align: middle;\n",
       "    }\n",
       "\n",
       "    .dataframe tbody tr th {\n",
       "        vertical-align: top;\n",
       "    }\n",
       "\n",
       "    .dataframe thead th {\n",
       "        text-align: right;\n",
       "    }\n",
       "</style>\n",
       "<table border=\"1\" class=\"dataframe\">\n",
       "  <thead>\n",
       "    <tr style=\"text-align: right;\">\n",
       "      <th></th>\n",
       "      <th>Age</th>\n",
       "      <th>Gender</th>\n",
       "      <th>Education Level</th>\n",
       "      <th>Job Title</th>\n",
       "      <th>Years of Experience</th>\n",
       "      <th>Salary</th>\n",
       "    </tr>\n",
       "  </thead>\n",
       "  <tbody>\n",
       "    <tr>\n",
       "      <th>0</th>\n",
       "      <td>32.0</td>\n",
       "      <td>Male</td>\n",
       "      <td>Bachelor's</td>\n",
       "      <td>Software Engineer</td>\n",
       "      <td>5.0</td>\n",
       "      <td>90000.0</td>\n",
       "    </tr>\n",
       "    <tr>\n",
       "      <th>1</th>\n",
       "      <td>28.0</td>\n",
       "      <td>Female</td>\n",
       "      <td>Master's</td>\n",
       "      <td>Data Analyst</td>\n",
       "      <td>3.0</td>\n",
       "      <td>65000.0</td>\n",
       "    </tr>\n",
       "    <tr>\n",
       "      <th>2</th>\n",
       "      <td>45.0</td>\n",
       "      <td>Male</td>\n",
       "      <td>PhD</td>\n",
       "      <td>Senior Manager</td>\n",
       "      <td>15.0</td>\n",
       "      <td>150000.0</td>\n",
       "    </tr>\n",
       "    <tr>\n",
       "      <th>3</th>\n",
       "      <td>36.0</td>\n",
       "      <td>Female</td>\n",
       "      <td>Bachelor's</td>\n",
       "      <td>Sales Associate</td>\n",
       "      <td>7.0</td>\n",
       "      <td>60000.0</td>\n",
       "    </tr>\n",
       "    <tr>\n",
       "      <th>4</th>\n",
       "      <td>52.0</td>\n",
       "      <td>Male</td>\n",
       "      <td>Master's</td>\n",
       "      <td>Director</td>\n",
       "      <td>20.0</td>\n",
       "      <td>200000.0</td>\n",
       "    </tr>\n",
       "  </tbody>\n",
       "</table>\n",
       "</div>"
      ],
      "text/plain": [
       "    Age  Gender Education Level          Job Title  Years of Experience  \\\n",
       "0  32.0    Male      Bachelor's  Software Engineer                  5.0   \n",
       "1  28.0  Female        Master's       Data Analyst                  3.0   \n",
       "2  45.0    Male             PhD     Senior Manager                 15.0   \n",
       "3  36.0  Female      Bachelor's    Sales Associate                  7.0   \n",
       "4  52.0    Male        Master's           Director                 20.0   \n",
       "\n",
       "     Salary  \n",
       "0   90000.0  \n",
       "1   65000.0  \n",
       "2  150000.0  \n",
       "3   60000.0  \n",
       "4  200000.0  "
      ]
     },
     "execution_count": 78,
     "metadata": {},
     "output_type": "execute_result"
    }
   ],
   "source": [
    "import pandas as pd\n",
    "import scipy.stats as stats\n",
    "import numpy as np\n",
    "import seaborn as sns\n",
    "import matplotlib.pyplot as plt\n",
    "#load data\n",
    "df = pd.read_csv(\"c:\\projects\\Income Difference Project\\data\\Salary_Data.csv\")\n",
    "df.head()"
   ]
  },
  {
   "cell_type": "markdown",
   "id": "668afe32",
   "metadata": {},
   "source": [
    "### 🧹 Clean & Prepare Data\n",
    "\n",
    "Check for missing values in Job Title and Salary.\n",
    "\n",
    "Filter for only Data Scientist and Software Engineer\n",
    "\n",
    "Groupby these 2 job roles and 'Salary'\n",
    "\n",
    "Save this to a new dataframe"
   ]
  },
  {
   "cell_type": "code",
   "execution_count": 79,
   "id": "9c5875b3",
   "metadata": {},
   "outputs": [
    {
     "name": "stdout",
     "output_type": "stream",
     "text": [
      "Age                    2\n",
      "Gender                 2\n",
      "Education Level        3\n",
      "Job Title              2\n",
      "Years of Experience    3\n",
      "Salary                 5\n",
      "dtype: int64\n",
      "Age                    0\n",
      "Gender                 0\n",
      "Education Level        0\n",
      "Job Title              0\n",
      "Years of Experience    0\n",
      "Salary                 0\n",
      "dtype: int64\n"
     ]
    }
   ],
   "source": [
    "#see if there is any missing entries and remove them\n",
    "print(df.isnull().sum())\n",
    "df = df.dropna()\n",
    "print(df.isnull().sum())"
   ]
  },
  {
   "cell_type": "code",
   "execution_count": 80,
   "id": "4ee4dca6",
   "metadata": {},
   "outputs": [
    {
     "data": {
      "text/html": [
       "<div>\n",
       "<style scoped>\n",
       "    .dataframe tbody tr th:only-of-type {\n",
       "        vertical-align: middle;\n",
       "    }\n",
       "\n",
       "    .dataframe tbody tr th {\n",
       "        vertical-align: top;\n",
       "    }\n",
       "\n",
       "    .dataframe thead th {\n",
       "        text-align: right;\n",
       "    }\n",
       "</style>\n",
       "<table border=\"1\" class=\"dataframe\">\n",
       "  <thead>\n",
       "    <tr style=\"text-align: right;\">\n",
       "      <th></th>\n",
       "      <th>Age</th>\n",
       "      <th>Gender</th>\n",
       "      <th>Education Level</th>\n",
       "      <th>Job Title</th>\n",
       "      <th>Years of Experience</th>\n",
       "      <th>Salary</th>\n",
       "    </tr>\n",
       "  </thead>\n",
       "  <tbody>\n",
       "    <tr>\n",
       "      <th>0</th>\n",
       "      <td>32.0</td>\n",
       "      <td>Male</td>\n",
       "      <td>Bachelor's</td>\n",
       "      <td>Software Engineer</td>\n",
       "      <td>5.0</td>\n",
       "      <td>90000.0</td>\n",
       "    </tr>\n",
       "    <tr>\n",
       "      <th>32</th>\n",
       "      <td>29.0</td>\n",
       "      <td>Male</td>\n",
       "      <td>Master's</td>\n",
       "      <td>Data Scientist</td>\n",
       "      <td>3.0</td>\n",
       "      <td>75000.0</td>\n",
       "    </tr>\n",
       "    <tr>\n",
       "      <th>375</th>\n",
       "      <td>31.0</td>\n",
       "      <td>Male</td>\n",
       "      <td>Master's</td>\n",
       "      <td>Data Scientist</td>\n",
       "      <td>6.0</td>\n",
       "      <td>160000.0</td>\n",
       "    </tr>\n",
       "    <tr>\n",
       "      <th>376</th>\n",
       "      <td>28.0</td>\n",
       "      <td>Female</td>\n",
       "      <td>Bachelor's</td>\n",
       "      <td>Software Engineer</td>\n",
       "      <td>3.0</td>\n",
       "      <td>125000.0</td>\n",
       "    </tr>\n",
       "    <tr>\n",
       "      <th>379</th>\n",
       "      <td>30.0</td>\n",
       "      <td>Male</td>\n",
       "      <td>PhD</td>\n",
       "      <td>Data Scientist</td>\n",
       "      <td>5.0</td>\n",
       "      <td>180000.0</td>\n",
       "    </tr>\n",
       "  </tbody>\n",
       "</table>\n",
       "</div>"
      ],
      "text/plain": [
       "      Age  Gender Education Level          Job Title  Years of Experience  \\\n",
       "0    32.0    Male      Bachelor's  Software Engineer                  5.0   \n",
       "32   29.0    Male        Master's     Data Scientist                  3.0   \n",
       "375  31.0    Male        Master's     Data Scientist                  6.0   \n",
       "376  28.0  Female      Bachelor's  Software Engineer                  3.0   \n",
       "379  30.0    Male             PhD     Data Scientist                  5.0   \n",
       "\n",
       "       Salary  \n",
       "0     90000.0  \n",
       "32    75000.0  \n",
       "375  160000.0  \n",
       "376  125000.0  \n",
       "379  180000.0  "
      ]
     },
     "execution_count": 80,
     "metadata": {},
     "output_type": "execute_result"
    }
   ],
   "source": [
    "df = df[df['Job Title'].isin(['Data Scientist', 'Software Engineer'])]\n",
    "df.head()"
   ]
  },
  {
   "cell_type": "markdown",
   "id": "6c673f9b",
   "metadata": {},
   "source": [
    "### Exploratory Data Analysis\n",
    "\n",
    "Show mean, median, standard deviation and variance for each role\n",
    "\n",
    "Use boxplot to visualize difference in salary."
   ]
  },
  {
   "cell_type": "code",
   "execution_count": 81,
   "id": "b2da7c5d",
   "metadata": {},
   "outputs": [
    {
     "data": {
      "text/html": [
       "<div>\n",
       "<style scoped>\n",
       "    .dataframe tbody tr th:only-of-type {\n",
       "        vertical-align: middle;\n",
       "    }\n",
       "\n",
       "    .dataframe tbody tr th {\n",
       "        vertical-align: top;\n",
       "    }\n",
       "\n",
       "    .dataframe thead th {\n",
       "        text-align: right;\n",
       "    }\n",
       "</style>\n",
       "<table border=\"1\" class=\"dataframe\">\n",
       "  <thead>\n",
       "    <tr style=\"text-align: right;\">\n",
       "      <th></th>\n",
       "      <th>count</th>\n",
       "      <th>mean</th>\n",
       "      <th>std</th>\n",
       "      <th>min</th>\n",
       "      <th>25%</th>\n",
       "      <th>50%</th>\n",
       "      <th>75%</th>\n",
       "      <th>max</th>\n",
       "    </tr>\n",
       "    <tr>\n",
       "      <th>Job Title</th>\n",
       "      <th></th>\n",
       "      <th></th>\n",
       "      <th></th>\n",
       "      <th></th>\n",
       "      <th></th>\n",
       "      <th></th>\n",
       "      <th></th>\n",
       "      <th></th>\n",
       "    </tr>\n",
       "  </thead>\n",
       "  <tbody>\n",
       "    <tr>\n",
       "      <th>Data Scientist</th>\n",
       "      <td>453.0</td>\n",
       "      <td>166105.960265</td>\n",
       "      <td>28228.873136</td>\n",
       "      <td>75000.0</td>\n",
       "      <td>140000.0</td>\n",
       "      <td>168000.0</td>\n",
       "      <td>185000.0</td>\n",
       "      <td>240000.0</td>\n",
       "    </tr>\n",
       "    <tr>\n",
       "      <th>Software Engineer</th>\n",
       "      <td>518.0</td>\n",
       "      <td>113243.243243</td>\n",
       "      <td>48031.287179</td>\n",
       "      <td>50000.0</td>\n",
       "      <td>70000.0</td>\n",
       "      <td>90000.0</td>\n",
       "      <td>160000.0</td>\n",
       "      <td>197000.0</td>\n",
       "    </tr>\n",
       "  </tbody>\n",
       "</table>\n",
       "</div>"
      ],
      "text/plain": [
       "                   count           mean           std      min       25%  \\\n",
       "Job Title                                                                  \n",
       "Data Scientist     453.0  166105.960265  28228.873136  75000.0  140000.0   \n",
       "Software Engineer  518.0  113243.243243  48031.287179  50000.0   70000.0   \n",
       "\n",
       "                        50%       75%       max  \n",
       "Job Title                                        \n",
       "Data Scientist     168000.0  185000.0  240000.0  \n",
       "Software Engineer   90000.0  160000.0  197000.0  "
      ]
     },
     "execution_count": 81,
     "metadata": {},
     "output_type": "execute_result"
    }
   ],
   "source": [
    "df.groupby('Job Title')['Salary'].describe()"
   ]
  },
  {
   "cell_type": "code",
   "execution_count": 82,
   "id": "ea297ede",
   "metadata": {},
   "outputs": [
    {
     "data": {
      "text/plain": [
       "Text(0.5, 1.0, 'Salary Distribution By Role')"
      ]
     },
     "execution_count": 82,
     "metadata": {},
     "output_type": "execute_result"
    },
    {
     "data": {
      "image/png": "[encoded data removed]",
      "text/plain": [
       "<Figure size 640x480 with 1 Axes>"
      ]
     },
     "metadata": {},
     "output_type": "display_data"
    }
   ],
   "source": [
    "sns.boxplot(data=df, x = 'Job Title', y = 'Salary')\n",
    "plt.title(\"Salary Distribution By Role\")\n"
   ]
  },
  {
   "cell_type": "markdown",
   "id": "17aa1663",
   "metadata": {},
   "source": [
    "### 🔍 Insight\n",
    "\n",
    "As shown by the summary statistics and boxplot, **Data Scientists** have a higher mean salary but a tighter spread. The small interquartile range (IQR) suggests that most Data Scientists are paid around the same amount. However, the long whiskers on either side indicate a few outliers who earn significantly more or less. This is reasonable, as it likely reflects senior Data Scientists at the high end and junior or entry-level hires at the low end.\n",
    "\n",
    "**Software Engineers**, by contrast, have a lower mean salary but a wider IQR. This suggests that individual Software Engineer salaries vary more on average, possibly due to differences in seniority, specialization, or educational background. Interestingly, the overall range for Software Engineers is smaller, which means there are fewer extreme high or low salaries compared to Data Scientists.\n"
   ]
  },
  {
   "cell_type": "markdown",
   "id": "943c1830",
   "metadata": {},
   "source": [
    "### Hypotheses\n",
    "\n",
    "**Null Hypothesis (H₀):** The mean salary for Data Analysts and Software Engineers is equal.\n",
    "\n",
    "**Alternative Hypothesis (H₁):** The mean salary for Data Analysts is different from the mean salary for Software Engineers.\n",
    "\n",
    "**Significance level:** α = 0.05\n",
    "\n",
    "### Check Assupmtions\n",
    "\n",
    "Visually check with histplot to see if both groups are roughly normal\n",
    "\n",
    "Use Levenes test to check for equal variance assumption"
   ]
  },
  {
   "cell_type": "code",
   "execution_count": 83,
   "id": "73481be7",
   "metadata": {},
   "outputs": [
    {
     "data": {
      "text/plain": [
       "Text(0.5, 1.0, 'Software Engineer Salary Distribution')"
      ]
     },
     "execution_count": 83,
     "metadata": {},
     "output_type": "execute_result"
    },
    {
     "data": {
      "image/png": "[encoded data removed]",
      "text/plain": [
       "<Figure size 640x480 with 1 Axes>"
      ]
     },
     "metadata": {},
     "output_type": "display_data"
    }
   ],
   "source": [
    "sns.histplot(data=df[df['Job Title']== 'Software Engineer'], x='Salary')\n",
    "plt.title(\"Software Engineer Salary Distribution\")\n"
   ]
  },
  {
   "cell_type": "code",
   "execution_count": 84,
   "id": "595eb436",
   "metadata": {},
   "outputs": [
    {
     "data": {
      "text/plain": [
       "Text(0.5, 1.0, 'Data Scientist Salary Distribution')"
      ]
     },
     "execution_count": 84,
     "metadata": {},
     "output_type": "execute_result"
    },
    {
     "data": {
      "image/png": "[encoded data removed]",
      "text/plain": [
       "<Figure size 640x480 with 1 Axes>"
      ]
     },
     "metadata": {},
     "output_type": "display_data"
    }
   ],
   "source": [
    "sns.histplot(data=df[df['Job Title']== 'Data Scientist'], x='Salary')\n",
    "plt.title(\"Data Scientist Salary Distribution\")\n"
   ]
  },
  {
   "cell_type": "code",
   "execution_count": 85,
   "id": "db1b9daa",
   "metadata": {},
   "outputs": [
    {
     "name": "stdout",
     "output_type": "stream",
     "text": [
      "Statistic: 1.62e+02\n",
      "P-value: 2.14e-34\n"
     ]
    }
   ],
   "source": [
    "#use levene test to compare variances\n",
    "from scipy.stats import levene\n",
    "group1 = df[df['Job Title'] == 'Data Scientist']['Salary']\n",
    "group2 = df[df['Job Title'] == 'Software Engineer']['Salary']\n",
    "stat, p = levene(group1, group2)\n",
    "\n",
    "print(f'Statistic: {stat:.3}')\n",
    "print(f'P-value: {p:.3}')"
   ]
  },
  {
   "cell_type": "markdown",
   "id": "9fda1a51",
   "metadata": {},
   "source": [
    "### Assumptions\n",
    "\n",
    "#### Normality\n",
    "\n",
    "The salary for Software Engineers is evidently right skewed, however the large sample size of 453. According to central limit theorem, the sampling distribution of the mean will always follow a normal distribution when the sample size is sufficiently large. Therefore, hypothesis testing can still be done.\n",
    "\n",
    "#### Variance\n",
    "\n",
    "Levene's test gave a p_value of 2.14e-34 - very small, coming close to 0. This means that we reject the hypothesis that group variances are equal. As a result, we will use **Welch’s t-test**, which does not assume equal variances."
   ]
  },
  {
   "cell_type": "code",
   "execution_count": 86,
   "id": "d04c90f5",
   "metadata": {},
   "outputs": [
    {
     "name": "stdout",
     "output_type": "stream",
     "text": [
      "Statistic: 21.2\n",
      "P-value: 1.62e-80\n"
     ]
    }
   ],
   "source": [
    "#do ttest, setting equal_var=False, this will make the function use Welch's correction\n",
    "from scipy.stats import ttest_ind\n",
    "\n",
    "stat, p_value = ttest_ind(group1, group2, equal_var=False)\n",
    "print(f'Statistic: {stat:.3}')\n",
    "print(f'P-value: {p_value:.3}')"
   ]
  },
  {
   "cell_type": "markdown",
   "id": "d863deed",
   "metadata": {},
   "source": [
    "## ✅ Conclusion\n",
    "\n",
    "The Welch’s t-test produced a test statistic of **21.2** and a p-value of **1.62 × 10⁻⁸⁰**, which is far smaller than the chosen significance level (α = 0.05).\n",
    "\n",
    "Given the large sample size and the clear mean salary gap (~$52,000), it is reasonable that the Welch’s t-test produced a very large test statistic and an extremely small p-value. This strongly supports the conclusion that average pay differs significantly between Data Scientists and Software Engineers in this dataset.\n",
    "\n",
    "This means we **reject the null hypothesis** that the mean salary for Software Engineers and Data Scientists is equal.\n",
    "\n",
    "In practical terms, there is extremely strong statistical evidence that the average salary for these two roles is significantly different. Combined with the summary statistics and boxplot, this indicates that **Software Engineers and Data Scientists do not earn the same on average** in this dataset.\n",
    "\n",
    "It’s important to note that this result only reflects the difference in mean salaries — it does not account for other factors like experience level, seniority, location, or specific skills, which could also influence pay. Further analysis could adjust for these variables to better understand the drivers behind this pay gap.\n"
   ]
  }
 ],
 "metadata": {
  "kernelspec": {
   "display_name": "Python 3",
   "language": "python",
   "name": "python3"
  },
  "language_info": {
   "codemirror_mode": {
    "name": "ipython",
    "version": 3
   },
   "file_extension": ".py",
   "mimetype": "text/x-python",
   "name": "python",
   "nbconvert_exporter": "python",
   "pygments_lexer": "ipython3",
   "version": "3.11.9"
  }
 },
 "nbformat": 4,
 "nbformat_minor": 5
}
